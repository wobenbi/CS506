{
 "cells": [
  {
   "cell_type": "markdown",
   "metadata": {},
   "source": [
    "# Worksheet 14\n",
    "\n",
    "Name:  \n",
    "UID: \n",
    "\n",
    "### Topics\n",
    "\n",
    "- Linear Regression\n",
    "\n",
    "### Optional Challenge\n",
    "\n",
    "Every day my alarm goes off at seemingly random times… I’ve recorded the times at which it goes off for the past year of so (1 - 355 days). Today is day 356. Can you predict when my alarm will ring using [data.csv](https://raw.githubusercontent.com/gallettilance/CS506-Fall2022/master/worksheets/data.csv)?\n",
    "\n",
    "Please raise your hand in class when you have a prediction.\n",
    "\n",
    "## Linear Regression\n",
    "\n",
    "a) Create and plot a dataset of 100 (Y, X) points where `Y = 1 + 0.5 * X + eps`."
   ]
  },
  {
   "cell_type": "code",
   "execution_count": null,
   "metadata": {},
   "outputs": [],
   "source": [
    "import numpy as np\n",
    "import matplotlib.pyplot as plt\n",
    "\n",
    "line = np.array([ ... , ... ])\n",
    "xlin = -10.0 + 20.0 * np.random.random(100)\n",
    "ylin = line[0]+(line[1]*xlin)+np.random.randn(100)\n",
    "plt.plot(xlin,ylin,'ro',markersize=4)\n",
    "plt.show()"
   ]
  },
  {
   "cell_type": "markdown",
   "metadata": {},
   "source": [
    "b) Plot the least squares estimate line through the scatter plot."
   ]
  },
  {
   "cell_type": "code",
   "execution_count": null,
   "metadata": {},
   "outputs": [],
   "source": [
    "intercept = np.ones(np.shape(xlin)[0])\n",
    "X = np.array([intercept, xlin]).T\n",
    "beta = ...\n",
    "\n",
    "xplot = np.linspace(-10,10,50)\n",
    "yestplot = beta[0] + beta[1] * xplot\n",
    "plt.plot(xplot, yestplot,'b-',lw=2)\n",
    "plt.plot(xlin, ylin,'ro',markersize=4)\n",
    "plt.show()"
   ]
  },
  {
   "cell_type": "markdown",
   "metadata": {},
   "source": [
    "c) How does the estimate of `beta` compare to the parameters we used to generate the data?"
   ]
  },
  {
   "cell_type": "markdown",
   "metadata": {},
   "source": []
  },
  {
   "cell_type": "markdown",
   "metadata": {},
   "source": [
    "d) Create and plot a dataset of 100 (Y, X) points where `Y = 1 + 3 * X + .5 * X^2 + eps`."
   ]
  },
  {
   "cell_type": "code",
   "execution_count": null,
   "metadata": {},
   "outputs": [],
   "source": []
  },
  {
   "cell_type": "markdown",
   "metadata": {},
   "source": [
    "e) Plot the least squares estimate line through the scatter plot."
   ]
  },
  {
   "cell_type": "code",
   "execution_count": null,
   "metadata": {},
   "outputs": [],
   "source": []
  },
  {
   "cell_type": "markdown",
   "metadata": {},
   "source": [
    "f) How does the estimate of `beta` compare to the parameters we used to generate the data?"
   ]
  },
  {
   "cell_type": "markdown",
   "metadata": {},
   "source": []
  },
  {
   "cell_type": "markdown",
   "metadata": {},
   "source": [
    "g) Create and plot a dataset of 100 (Y, X) points where `Y = 1 + 4 * log(X) + eps`."
   ]
  },
  {
   "cell_type": "code",
   "execution_count": null,
   "metadata": {},
   "outputs": [],
   "source": []
  },
  {
   "cell_type": "markdown",
   "metadata": {},
   "source": [
    "h) Plot the least squares estimate line through the scatter plot."
   ]
  },
  {
   "cell_type": "code",
   "execution_count": null,
   "metadata": {},
   "outputs": [],
   "source": []
  },
  {
   "cell_type": "markdown",
   "metadata": {},
   "source": [
    "i) How does the estimate of `beta` compare to the parameters we used to generate the data?"
   ]
  },
  {
   "cell_type": "markdown",
   "metadata": {},
   "source": []
  },
  {
   "cell_type": "markdown",
   "metadata": {},
   "source": [
    "j) Using the `statsmodels` library, fill out the code below to generate a surface that cuts through the 3D scatter plot."
   ]
  },
  {
   "cell_type": "code",
   "execution_count": null,
   "metadata": {},
   "outputs": [],
   "source": [
    "import numpy as np\n",
    "import pandas as pd\n",
    "from mpl_toolkits.mplot3d import Axes3D\n",
    "from sklearn import datasets\n",
    "import statsmodels.api as sm\n",
    "\n",
    "import seaborn as sns; sns.set()\n",
    "\n",
    "X, y = datasets.make_regression(n_samples=100, n_features=2, n_informative=5, noise=30, random_state=1)\n",
    "X = sm.add_constant(X)\n",
    "\n",
    "model = sm.OLS(..., ...).fit()\n",
    "\n",
    "x1, x2 = np.meshgrid(np.arange(min(X.T[1]), max(X.T[1]), .5), np.arange(min(X.T[2]), max(X.T[2]), .5))\n",
    "exog = pd.core.frame.DataFrame({'x0': np.ones(len(x1.ravel())).ravel(), 'x1': x1.ravel(), 'x2':x2.ravel()})\n",
    "out = model.predict(...)\n",
    "\n",
    "ax = plt.axes(projection='3d')\n",
    "ax.scatter3D(X.T[1], X.T[2], y)\n",
    "ax.plot_surface(x1, x2, out.values.reshape(x1.shape), color='Green', alpha=.2)\n",
    "plt.show()"
   ]
  }
 ],
 "metadata": {
  "interpreter": {
   "hash": "76ca05dc3ea24b2e3b98cdb7774adfbb40773424bf5109b477fd793f623715af"
  },
  "kernelspec": {
   "display_name": "Python 3.9.9 64-bit ('env': venv)",
   "language": "python",
   "name": "python3"
  },
  "language_info": {
   "name": "python",
   "version": "3.9.9"
  },
  "orig_nbformat": 4
 },
 "nbformat": 4,
 "nbformat_minor": 2
}
