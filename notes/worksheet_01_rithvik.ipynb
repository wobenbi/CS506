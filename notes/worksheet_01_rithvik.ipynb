{
 "cells": [
  {
   "cell_type": "markdown",
   "metadata": {},
   "source": [
    "# Worksheet 01\n",
    "\n",
    "Name: Rithvik Doshi\n",
    "UID: U98773385\n",
    "\n",
    "### Topics\n",
    "\n",
    "- Git\n",
    "\n",
    "## Prerequisites (installations)\n",
    "\n",
    "#### This is your checklist:\n",
    "\n",
    "- [x] Access to terminal\n",
    "- [x] Install Git\n",
    "- [x] Sign up for a GitHub account\n",
    "- [x] Choose editor\n",
    "- [x] Set up ssh keys\n",
    "- [x] Configure git\n",
    "\n",
    "### Step 1: Work Environment:  Access to Terminal \n",
    "\n",
    "- Mac/Linux: use **Terminal**\n",
    "- Windows:\n",
    "\t- Option 1:  [Power Shell](https://www.digitalcitizen.life/simple-questions-what-powershell-what-can-you-do-it)\n",
    "\t- Option 2:  Git Bash (recommended)\n",
    "\t\n",
    "### Step 2: Install Git\n",
    "\n",
    "- Mac:  \n",
    "\t- [Git](https://git-scm.com/download/mac)\n",
    "- Windows:  \n",
    "\t- [Git for Windows (Git Bash)](https://gitforwindows.org/)\n",
    "- Linux:\n",
    "\t- [Install Git on Linux](https://www.atlassian.com/git/tutorials/install-git#linux)\n",
    "\n",
    "Confirm Git is installed by typing `git --version` on your terminal\n",
    "\n",
    "### Step 3: Sign up for a GitHub Account\n",
    " \n",
    " Go to [github.com](https://github.com/)\n",
    "\n",
    "### Step 4: Choose a Graphical Editor\n",
    "\n",
    "- Try Visual Studio Code\n",
    "\t* [Visual Studio Code](https://visualstudio.microsoft.com/downloads/)\n",
    "- OR one of these other editors\n",
    "\t* [Sublime Text 3](https://www.sublimetext.com/)\n",
    "\t* [Atom](https://atom.io/) \n",
    "\t* [Notepad++](https://notepad-plus-plus.org/) (for Windows)\n",
    "\n",
    "### Step 5: SSH Setup\n",
    "\n",
    "#### Mac & Linux Users\n",
    "\n",
    "Go to home directory (in terminal)\n",
    "\n",
    "```bash\n",
    "% cd ~\n",
    "% pwd\n",
    "/Users/gallettilance\n",
    "```\n",
    "\n",
    "Go to `.ssh` directory\n",
    "\n",
    "```bash\n",
    "% pwd\n",
    "/Users/gallettilance\n",
    "% cd .ssh\n",
    "% pwd\n",
    "/Users/gallettilance/.ssh \n",
    "```\n",
    "\n",
    "**Note:**  If you do not have the `.ssh` directory, you can create it\n",
    "\n",
    "- if you are in your home directory:\n",
    "\t- <kbd> mkdir .ssh </kbd>  \n",
    "- if you are not in your home directory:\n",
    "\t- <kbd> mkdir ~/.ssh </kbd>  \n",
    "\n",
    "Generate `id_rsa` keypair files if needed\n",
    "\n",
    "- **Note:**  these `id_rsa` files contain a special password for your computer to be connect to network services (Ex:  GitHub, AWS).\n",
    "- Check to see if these files exist by typing <kbd> ls -alt</kbd>\n",
    "- If you do not have these two files (`id_rsa` and `id_rsa.pub`), create them by typing:  \n",
    "\t- <kbd> ssh-keygen</kbd>\n",
    "\t- Hit  <kbd> enter  </kbd> **3 times**\n",
    "\n",
    "```bash\n",
    "% pwd \n",
    "/Users/gallettilance/.ssh\n",
    "% ls\n",
    "% ssh-keygen\n",
    "Generating public/private rsa key pair.\n",
    "Enter file in which to save the key (/Users/gallettilance/.ssh/id_rsa): \n",
    "Enter passphrase (empty for no passphrase): \n",
    "Enter same passphrase again: \n",
    "Your identification has been saved in /Users/gallettilance/.ssh/id_rsa.\n",
    "Your public key has been saved in /Users/gallettilance/.ssh/id_rsa.pub.\n",
    "The key fingerprint is:\n",
    "SHA256:jmDJes1qOzDi8KynXLGQ098JMSRnbIyt0w7vSgEsr2E gallettilance@RESHAMAs-MacBook-Pro.local\n",
    "The key's randomart image is:\n",
    "+---[RSA 2048]----+\n",
    "|   .=+           |\n",
    "|.  .==           |\n",
    "|.o  +o           |\n",
    "|..+= oo          |\n",
    "|.E.+X.  S        |\n",
    "|+o=o=*oo.        |\n",
    "|++.*o.+o.        |\n",
    "|..*.oo           |\n",
    "|o= o+o           |\n",
    "+----[SHA256]-----+\n",
    "% ls\n",
    "total 16\n",
    "-rw-------  1   1675 Dec 17 12:20 id_rsa\n",
    "-rw-r--r--  1    422 Dec 17 12:20 id_rsa.pub\n",
    "% \n",
    "```\n",
    "\n",
    "Navigate to the `.ssh` directory\n",
    "\n",
    "<kbd> cd ~/.ssh </kbd>  \n",
    "\n",
    "open `id_rsa.pub` using your editor of choice and copy its contents. Add `ssh` key to GitHub by following these steps:\n",
    "\n",
    "- go to your [GitHub account](https://github.com/) (create one if you don't have one, and save your user name and password somewhere easily accessible for you.)\n",
    "- click on your avatar/profile picture (upper right of screen)\n",
    "- go to `Settings`\n",
    "- on left of screen, select `SSH and GPG keys`\n",
    "- Select <kbd> New SSH key </kbd>\n",
    "- for \"Title\":  entitle it  \"GitHub key\"\n",
    "- for \"Key\":  paste key from clipboard here\n",
    "- click <kbd> Add SSH key </kbd>\n",
    "- save, exit, confirm GitHub password as requested\n",
    "\n",
    "#### Windows Users\n",
    "\n",
    "Follow [How to Create SSH Keys with PuTTY on Windows](https://www.digitalocean.com/docs/droplets/how-to/add-ssh-keys/create-with-putty/)\n",
    "\n",
    "### Step 6: Configure Git\n",
    "\n",
    "#### Configure user name and email (lets Git know who you are)\n",
    "\n",
    "<kbd> git config --global user.name \"First Last\"  </kbd>  \n",
    "<kbd> git config --global user.email \"myname@email.com\"  </kbd>  \n",
    "\n",
    "To verify these additions, type:  \n",
    "<kbd> git config --list  </kbd>  \n",
    "\n",
    "#### Configure (terminal) editor of choice\n",
    "\n",
    "<kbd> git config --global core.editor \"code --wait\"  </kbd> \n",
    "\n",
    "Other editor options can be found in [Setting Up Git](http://swcarpentry.github.io/git-novice/02-setup/)\n",
    "\n",
    "**Note**: the above only works for Linux. For Mac and Windows you will need to find the equivalent (to \"code --wait\") command for opening vscode from the terminal."
   ]
  },
  {
   "cell_type": "markdown",
   "metadata": {},
   "source": [
    "### Git / GitHub\n",
    "\n",
    "a) what is the difference between git and github?"
   ]
  },
  {
   "cell_type": "markdown",
   "metadata": {},
   "source": [
    "Git is a distributed version control system for tracking all the changes made to source code during SWE development, whereas GitHub is a web-based Git repo hosting service."
   ]
  },
  {
   "cell_type": "markdown",
   "metadata": {},
   "source": [
    "b) what command would you use to copy a repo locally?"
   ]
  },
  {
   "cell_type": "markdown",
   "metadata": {},
   "source": [
    "```git clone repo_name```"
   ]
  },
  {
   "cell_type": "markdown",
   "metadata": {},
   "source": [
    "c) what button would you use to make a copy of a repo in GitHub?"
   ]
  },
  {
   "cell_type": "markdown",
   "metadata": {},
   "source": [
    "The fork button (you can also duplicate the repo by using a bare clone and then mirror-pushing, but there's no button for that)"
   ]
  },
  {
   "cell_type": "markdown",
   "metadata": {},
   "source": [
    "d) let's say you have a copy of a repo in GitHub but that repo changes, does your copy change too?"
   ]
  },
  {
   "cell_type": "markdown",
   "metadata": {},
   "source": [
    "Not necessarily. The remote copy will change but your local copy will only change once you pull from the remote."
   ]
  },
  {
   "cell_type": "markdown",
   "metadata": {},
   "source": [
    "e) what are the three commands you use to create a new save point in your git repo and back it up to GitHub?"
   ]
  },
  {
   "cell_type": "markdown",
   "metadata": {},
   "source": [
    "```git add .\n",
    "git commit -m \"messasge\"\n",
    "git push```"
   ]
  },
  {
   "cell_type": "markdown",
   "metadata": {},
   "source": [
    "f) how would you make your copy change so that it has the most up-to-date version of the repo it is copied from?"
   ]
  },
  {
   "cell_type": "markdown",
   "metadata": {},
   "source": [
    "```git pull```"
   ]
  },
  {
   "cell_type": "markdown",
   "metadata": {},
   "source": [
    "g) why are there sometimes conflicts between copied repos / branches? How do you resolve them?"
   ]
  },
  {
   "cell_type": "markdown",
   "metadata": {},
   "source": [
    "There are sometimes conflicts when repos and branches are being merged. During the merge process, a list of conflicts are generated and resolved by the collaborator in charge of merging the branch."
   ]
  },
  {
   "cell_type": "markdown",
   "metadata": {},
   "source": [
    "h) describe all the steps needed to make a PR to contribute your notes to the class repository."
   ]
  },
  {
   "cell_type": "markdown",
   "metadata": {},
   "source": [
    "1. Fork the repo\n",
    "2. Clone it so that you can work on it locally\n",
    "3. Keep the fork up-to-date by adding an upstream: ```git remote add upstream <original-repo-address>```\n",
    "4. To update your fork: ```git fetch upstream; git pull upstream master```\n",
    "5. Make changes then add, commit and push them.\n",
    "6. Submit a pull request on the OG repo by clicking the \"new pull request\" button and following the steps to propose the changes to the repo."
   ]
  },
  {
   "cell_type": "markdown",
   "metadata": {},
   "source": [
    "i) Write here some other commands we used in class and what they mean / how to use them:"
   ]
  },
  {
   "cell_type": "markdown",
   "metadata": {},
   "source": [
    "git log: show commit history\n",
    "\n",
    "git diff: show difference in state of the repo\n",
    "\n",
    "git status: show the status of the git repo\n",
    "\n",
    "git remote add origin \\<link\\>: adds the remote location for you to fetch and push files\n",
    "\n",
    "git remote -v: display the remote locations\n"
   ]
  },
  {
   "cell_type": "code",
   "execution_count": null,
   "metadata": {},
   "outputs": [],
   "source": []
  }
 ],
 "metadata": {
  "kernelspec": {
   "display_name": "Python 3 (ipykernel)",
   "language": "python",
   "name": "python3"
  },
  "language_info": {
   "codemirror_mode": {
    "name": "ipython",
    "version": 3
   },
   "file_extension": ".py",
   "mimetype": "text/x-python",
   "name": "python",
   "nbconvert_exporter": "python",
   "pygments_lexer": "ipython3",
   "version": "3.9.10"
  }
 },
 "nbformat": 4,
 "nbformat_minor": 2
}
