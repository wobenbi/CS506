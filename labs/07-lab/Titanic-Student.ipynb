{
 "cells": [
  {
   "cell_type": "markdown",
   "metadata": {
    "_cell_guid": "b1076dfc-b9ad-4769-8c92-a6c4dae69d19",
    "_uuid": "8f2839f25d086af736a60e9eeb907d3b93b6e0e5",
    "execution": {
     "iopub.execute_input": "2022-10-23T12:28:08.712218Z",
     "iopub.status.busy": "2022-10-23T12:28:08.711593Z",
     "iopub.status.idle": "2022-10-23T12:28:09.990312Z",
     "shell.execute_reply": "2022-10-23T12:28:09.988868Z"
    },
    "papermill": {
     "duration": 1.298605,
     "end_time": "2022-10-23T12:28:09.993329",
     "exception": false,
     "start_time": "2022-10-23T12:28:08.694724",
     "status": "completed"
    },
    "tags": []
   },
   "source": [
    "import pandas as pd\n",
    "import numpy as np\n",
    "import seaborn as sns\n",
    "import matplotlib.pyplot as plt\n",
    "import warnings \n",
    "\n",
    "warnings.filterwarnings(\"ignore\")"
   ]
  },
  {
   "cell_type": "markdown",
   "metadata": {},
   "source": [
    "train = pd.read_csv('train.csv')\n",
    "test = pd.read_csv('test.csv')\n",
    "test = pd.merge(test, train, how='inner', on='Id')"
   ]
  },
  {
   "cell_type": "markdown",
   "metadata": {},
   "source": [
    "columns = ['Transported_x', 'Transported_y']\n",
    "test = test.drop(columns, axis=1)"
   ]
  },
  {
   "cell_type": "markdown",
   "metadata": {},
   "source": [
    "train = train[train[\"Transported\"].notnull()]"
   ]
  },
  {
   "cell_type": "markdown",
   "metadata": {},
   "source": [
    "train.head()"
   ]
  },
  {
   "cell_type": "markdown",
   "metadata": {},
   "source": [
    "test.head()"
   ]
  },
  {
   "cell_type": "markdown",
   "metadata": {
    "execution": {
     "iopub.execute_input": "2022-10-23T12:28:10.241207Z",
     "iopub.status.busy": "2022-10-23T12:28:10.240725Z",
     "iopub.status.idle": "2022-10-23T12:28:10.273662Z",
     "shell.execute_reply": "2022-10-23T12:28:10.271723Z"
    },
    "papermill": {
     "duration": 0.048598,
     "end_time": "2022-10-23T12:28:10.276391",
     "exception": false,
     "start_time": "2022-10-23T12:28:10.227793",
     "status": "completed"
    },
    "tags": []
   },
   "source": [
    "train.info()"
   ]
  },
  {
   "cell_type": "markdown",
   "metadata": {
    "execution": {
     "iopub.execute_input": "2022-10-23T12:28:10.300999Z",
     "iopub.status.busy": "2022-10-23T12:28:10.300517Z",
     "iopub.status.idle": "2022-10-23T12:28:10.343607Z",
     "shell.execute_reply": "2022-10-23T12:28:10.342263Z"
    },
    "papermill": {
     "duration": 0.058475,
     "end_time": "2022-10-23T12:28:10.346127",
     "exception": false,
     "start_time": "2022-10-23T12:28:10.287652",
     "status": "completed"
    },
    "tags": []
   },
   "source": [
    "train.describe().T"
   ]
  },
  {
   "cell_type": "markdown",
   "metadata": {
    "execution": {
     "iopub.execute_input": "2022-10-23T11:48:18.341381Z",
     "iopub.status.busy": "2022-10-23T11:48:18.340868Z",
     "iopub.status.idle": "2022-10-23T11:48:18.347507Z",
     "shell.execute_reply": "2022-10-23T11:48:18.346008Z",
     "shell.execute_reply.started": "2022-10-23T11:48:18.341340Z"
    },
    "papermill": {
     "duration": 0.011096,
     "end_time": "2022-10-23T12:28:10.368592",
     "exception": false,
     "start_time": "2022-10-23T12:28:10.357496",
     "status": "completed"
    },
    "tags": []
   },
   "source": [
    "# data visualization"
   ]
  },
  {
   "cell_type": "markdown",
   "metadata": {
    "execution": {
     "iopub.execute_input": "2022-10-23T12:28:10.394050Z",
     "iopub.status.busy": "2022-10-23T12:28:10.393166Z",
     "iopub.status.idle": "2022-10-23T12:28:10.616968Z",
     "shell.execute_reply": "2022-10-23T12:28:10.614957Z"
    },
    "papermill": {
     "duration": 0.243264,
     "end_time": "2022-10-23T12:28:10.623308",
     "exception": false,
     "start_time": "2022-10-23T12:28:10.380044",
     "status": "completed"
    },
    "tags": []
   },
   "source": [
    "# Transported\n",
    "\n",
    "plt.figure(figsize=(7,7))\n",
    "train['Transported'].value_counts().plot.pie(explode = [0.05, 0.05] , \n",
    "                                             autopct = '%1.1f%%' , \n",
    "                                             textprops = {'fontsize' : 16 })\n",
    "plt.show();"
   ]
  },
  {
   "cell_type": "markdown",
   "metadata": {
    "execution": {
     "iopub.execute_input": "2022-10-23T12:28:10.678000Z",
     "iopub.status.busy": "2022-10-23T12:28:10.676352Z",
     "iopub.status.idle": "2022-10-23T12:28:11.400912Z",
     "shell.execute_reply": "2022-10-23T12:28:11.399513Z"
    },
    "papermill": {
     "duration": 0.747006,
     "end_time": "2022-10-23T12:28:11.403460",
     "exception": false,
     "start_time": "2022-10-23T12:28:10.656454",
     "status": "completed"
    },
    "tags": []
   },
   "source": [
    "# Age\n",
    "\n",
    "plt.figure(figsize=(12,7))\n",
    "sns.histplot(data= train, x= 'Age', hue= 'Transported', binwidth = 1, kde = True)\n",
    "plt.xlabel('Age')\n",
    "plt.ylabel('Transported Count')\n",
    "plt.show();"
   ]
  },
  {
   "cell_type": "markdown",
   "metadata": {
    "execution": {
     "iopub.execute_input": "2022-10-23T12:28:11.430471Z",
     "iopub.status.busy": "2022-10-23T12:28:11.430084Z",
     "iopub.status.idle": "2022-10-23T12:28:12.229782Z",
     "shell.execute_reply": "2022-10-23T12:28:12.228352Z"
    },
    "papermill": {
     "duration": 0.816546,
     "end_time": "2022-10-23T12:28:12.232741",
     "exception": false,
     "start_time": "2022-10-23T12:28:11.416195",
     "status": "completed"
    },
    "tags": []
   },
   "source": [
    "# Categorical\n",
    "\n",
    "graph_cat = ['HomePlanet' , 'CryoSleep' , 'Destination' , 'VIP']\n",
    "\n",
    "fig = plt.figure(figsize= (15,15))\n",
    "\n",
    "for i, name in enumerate(graph_cat):\n",
    "    \n",
    "    ax = fig.add_subplot(4, 1, i+1)\n",
    "    sns.countplot(data= train, axes= ax, x= name, hue= 'Transported')"
   ]
  },
  {
   "cell_type": "markdown",
   "metadata": {
    "execution": {
     "iopub.execute_input": "2022-10-23T12:28:12.262021Z",
     "iopub.status.busy": "2022-10-23T12:28:12.261547Z",
     "iopub.status.idle": "2022-10-23T12:28:12.638066Z",
     "shell.execute_reply": "2022-10-23T12:28:12.636676Z"
    },
    "papermill": {
     "duration": 0.394291,
     "end_time": "2022-10-23T12:28:12.640868",
     "exception": false,
     "start_time": "2022-10-23T12:28:12.246577",
     "status": "completed"
    },
    "tags": []
   },
   "source": [
    "# Numerical \n",
    "\n",
    "sns.distplot(train['RoomService']);"
   ]
  },
  {
   "cell_type": "markdown",
   "metadata": {
    "execution": {
     "iopub.execute_input": "2022-10-23T12:28:12.671728Z",
     "iopub.status.busy": "2022-10-23T12:28:12.671324Z",
     "iopub.status.idle": "2022-10-23T12:28:12.977392Z",
     "shell.execute_reply": "2022-10-23T12:28:12.975937Z"
    },
    "papermill": {
     "duration": 0.325071,
     "end_time": "2022-10-23T12:28:12.980378",
     "exception": false,
     "start_time": "2022-10-23T12:28:12.655307",
     "status": "completed"
    },
    "tags": []
   },
   "source": [
    "sns.distplot(np.log(train['RoomService']+1));"
   ]
  },
  {
   "cell_type": "markdown",
   "metadata": {
    "papermill": {
     "duration": 0.014798,
     "end_time": "2022-10-23T12:28:13.009730",
     "exception": false,
     "start_time": "2022-10-23T12:28:12.994932",
     "status": "completed"
    },
    "tags": []
   },
   "source": [
    "# missing value"
   ]
  },
  {
   "cell_type": "markdown",
   "metadata": {
    "execution": {
     "iopub.execute_input": "2022-10-23T12:28:13.040437Z",
     "iopub.status.busy": "2022-10-23T12:28:13.040046Z",
     "iopub.status.idle": "2022-10-23T12:28:13.053796Z",
     "shell.execute_reply": "2022-10-23T12:28:13.052606Z"
    },
    "papermill": {
     "duration": 0.031846,
     "end_time": "2022-10-23T12:28:13.056092",
     "exception": false,
     "start_time": "2022-10-23T12:28:13.024246",
     "status": "completed"
    },
    "tags": []
   },
   "source": [
    "train.isnull().sum()"
   ]
  },
  {
   "cell_type": "markdown",
   "metadata": {
    "execution": {
     "iopub.execute_input": "2022-10-23T12:28:13.085823Z",
     "iopub.status.busy": "2022-10-23T12:28:13.085308Z",
     "iopub.status.idle": "2022-10-23T12:28:13.098728Z",
     "shell.execute_reply": "2022-10-23T12:28:13.097462Z"
    },
    "papermill": {
     "duration": 0.031325,
     "end_time": "2022-10-23T12:28:13.101357",
     "exception": false,
     "start_time": "2022-10-23T12:28:13.070032",
     "status": "completed"
    },
    "tags": []
   },
   "source": [
    "test.isnull().sum()"
   ]
  },
  {
   "cell_type": "markdown",
   "metadata": {
    "execution": {
     "iopub.execute_input": "2022-10-23T12:28:13.133628Z",
     "iopub.status.busy": "2022-10-23T12:28:13.133173Z",
     "iopub.status.idle": "2022-10-23T12:28:13.152495Z",
     "shell.execute_reply": "2022-10-23T12:28:13.150988Z"
    },
    "papermill": {
     "duration": 0.040258,
     "end_time": "2022-10-23T12:28:13.156111",
     "exception": false,
     "start_time": "2022-10-23T12:28:13.115853",
     "status": "completed"
    },
    "tags": []
   },
   "source": [
    "# Age\n",
    "\n",
    "train_test = [train, test]\n",
    "\n",
    "for data_age in train_test:\n",
    "    \n",
    "    mean = data_age['Age'].mean()\n",
    "    std = data_age['Age'].std()\n",
    "    is_null = data_age['Age'].isnull().sum()\n",
    "    rand_age = np.random.randint(mean - std, mean + std, size = is_null)\n",
    "    age = data_age['Age'].copy()\n",
    "    age[np.isnan(age)] = rand_age\n",
    "    data_age['Age'] = age\n",
    "    data_age['Age'] = data_age['Age'].astype(int)"
   ]
  },
  {
   "cell_type": "markdown",
   "metadata": {
    "execution": {
     "iopub.execute_input": "2022-10-23T12:28:13.189921Z",
     "iopub.status.busy": "2022-10-23T12:28:13.189299Z",
     "iopub.status.idle": "2022-10-23T12:28:13.222582Z",
     "shell.execute_reply": "2022-10-23T12:28:13.221099Z"
    },
    "papermill": {
     "duration": 0.054252,
     "end_time": "2022-10-23T12:28:13.225839",
     "exception": false,
     "start_time": "2022-10-23T12:28:13.171587",
     "status": "completed"
    },
    "tags": []
   },
   "source": [
    "# Categorical \n",
    "\n",
    "for data_obj in train_test:\n",
    "    \n",
    "    data_obj['HomePlanet'] = data_obj['HomePlanet'].fillna(data_obj['HomePlanet'].mode()[0])\n",
    "    data_obj['CryoSleep'] = data_obj['CryoSleep'].fillna(data_obj['CryoSleep'].mode()[0])\n",
    "    data_obj['Cabin'] = data_obj['Cabin'].fillna(data_obj['Cabin'].mode()[0])\n",
    "    data_obj['Destination'] = data_obj['Destination'].fillna(data_obj['Destination'].mode()[0])\n",
    "    data_obj['VIP'] = data_obj['VIP'].fillna(data_obj['VIP'].mode()[0])"
   ]
  },
  {
   "cell_type": "markdown",
   "metadata": {
    "execution": {
     "iopub.execute_input": "2022-10-23T12:28:13.258329Z",
     "iopub.status.busy": "2022-10-23T12:28:13.257803Z",
     "iopub.status.idle": "2022-10-23T12:28:13.272179Z",
     "shell.execute_reply": "2022-10-23T12:28:13.270878Z"
    },
    "papermill": {
     "duration": 0.033728,
     "end_time": "2022-10-23T12:28:13.274831",
     "exception": false,
     "start_time": "2022-10-23T12:28:13.241103",
     "status": "completed"
    },
    "tags": []
   },
   "source": [
    "train.isnull().sum()"
   ]
  },
  {
   "cell_type": "markdown",
   "metadata": {
    "execution": {
     "iopub.execute_input": "2022-10-23T12:28:13.308960Z",
     "iopub.status.busy": "2022-10-23T12:28:13.307606Z",
     "iopub.status.idle": "2022-10-23T12:28:13.329314Z",
     "shell.execute_reply": "2022-10-23T12:28:13.328051Z"
    },
    "papermill": {
     "duration": 0.041862,
     "end_time": "2022-10-23T12:28:13.332272",
     "exception": false,
     "start_time": "2022-10-23T12:28:13.290410",
     "status": "completed"
    },
    "tags": []
   },
   "source": [
    "# Numerical \n",
    "\n",
    "for data_num in train_test:\n",
    "    \n",
    "    data_num['RoomService'] = np.log(data_num['Spa']+1) \n",
    "    data_num['ShoppingMall'] = np.log(data_num['ShoppingMall']+1) \n",
    "    data_num['Spa'] = np.log(data_num['Spa']+1) \n",
    "    data_num['VRDeck'] = np.log(data_num['VRDeck']+1) \n",
    "    data_num['FoodCourt'] = np.log(data_num['FoodCourt']+1) \n",
    "\n",
    "    data_num['RoomService'] = data_num['RoomService'].fillna(data_num['RoomService'].median())\n",
    "    data_num['ShoppingMall'] = data_num['ShoppingMall'].fillna(data_num['ShoppingMall'].median())\n",
    "    data_num['Spa'] = data_num['Spa'].fillna(data_num['Spa'].median())\n",
    "    data_num['VRDeck'] = data_num['VRDeck'].fillna(data_num['VRDeck'].median())\n",
    "    data_num['FoodCourt'] = data_num['FoodCourt'].fillna(data_num['FoodCourt'].median())"
   ]
  },
  {
   "cell_type": "markdown",
   "metadata": {
    "execution": {
     "iopub.execute_input": "2022-10-23T12:28:13.366166Z",
     "iopub.status.busy": "2022-10-23T12:28:13.365721Z",
     "iopub.status.idle": "2022-10-23T12:28:13.380588Z",
     "shell.execute_reply": "2022-10-23T12:28:13.379057Z"
    },
    "papermill": {
     "duration": 0.034232,
     "end_time": "2022-10-23T12:28:13.383105",
     "exception": false,
     "start_time": "2022-10-23T12:28:13.348873",
     "status": "completed"
    },
    "tags": []
   },
   "source": [
    "train.isnull().sum()"
   ]
  },
  {
   "cell_type": "markdown",
   "metadata": {
    "execution": {
     "iopub.execute_input": "2022-10-23T12:28:13.414815Z",
     "iopub.status.busy": "2022-10-23T12:28:13.414388Z",
     "iopub.status.idle": "2022-10-23T12:28:13.423719Z",
     "shell.execute_reply": "2022-10-23T12:28:13.422846Z"
    },
    "papermill": {
     "duration": 0.027692,
     "end_time": "2022-10-23T12:28:13.426066",
     "exception": false,
     "start_time": "2022-10-23T12:28:13.398374",
     "status": "completed"
    },
    "tags": []
   },
   "source": [
    "# Drop Name\n",
    "\n",
    "for data_name in train_test:\n",
    "    data_name.drop('Name', axis=1, inplace=True)"
   ]
  },
  {
   "cell_type": "markdown",
   "metadata": {
    "execution": {
     "iopub.execute_input": "2022-10-23T12:28:13.457649Z",
     "iopub.status.busy": "2022-10-23T12:28:13.457253Z",
     "iopub.status.idle": "2022-10-23T12:28:13.468213Z",
     "shell.execute_reply": "2022-10-23T12:28:13.466839Z"
    },
    "papermill": {
     "duration": 0.029853,
     "end_time": "2022-10-23T12:28:13.471129",
     "exception": false,
     "start_time": "2022-10-23T12:28:13.441276",
     "status": "completed"
    },
    "tags": []
   },
   "source": [
    "train.isnull().sum()"
   ]
  },
  {
   "cell_type": "markdown",
   "metadata": {
    "execution": {
     "iopub.execute_input": "2022-10-23T12:28:13.503544Z",
     "iopub.status.busy": "2022-10-23T12:28:13.503122Z",
     "iopub.status.idle": "2022-10-23T12:28:13.519500Z",
     "shell.execute_reply": "2022-10-23T12:28:13.517994Z"
    },
    "papermill": {
     "duration": 0.036288,
     "end_time": "2022-10-23T12:28:13.522461",
     "exception": false,
     "start_time": "2022-10-23T12:28:13.486173",
     "status": "completed"
    },
    "tags": []
   },
   "source": [
    "# Label Encoding \n",
    "\n",
    "for data in train_test:\n",
    "    \n",
    "    data['HomePlanet'] =data['HomePlanet'].astype('category').cat.codes\n",
    "    data['Destination'] =data['Destination'].astype('category').cat.codes"
   ]
  },
  {
   "cell_type": "markdown",
   "metadata": {
    "execution": {
     "iopub.execute_input": "2022-10-23T12:28:13.553590Z",
     "iopub.status.busy": "2022-10-23T12:28:13.553103Z",
     "iopub.status.idle": "2022-10-23T12:28:14.581332Z",
     "shell.execute_reply": "2022-10-23T12:28:14.579958Z"
    },
    "papermill": {
     "duration": 1.046614,
     "end_time": "2022-10-23T12:28:14.583797",
     "exception": false,
     "start_time": "2022-10-23T12:28:13.537183",
     "status": "completed"
    },
    "tags": []
   },
   "source": [
    "# Corr Matrix\n",
    "\n",
    "corr = train.corr()\n",
    "plt.figure(figsize=(15,9))\n",
    "sns.heatmap(corr, annot= True, cmap= 'coolwarm');"
   ]
  },
  {
   "cell_type": "markdown",
   "metadata": {
    "execution": {
     "iopub.execute_input": "2022-10-23T12:28:14.621651Z",
     "iopub.status.busy": "2022-10-23T12:28:14.620840Z",
     "iopub.status.idle": "2022-10-23T12:28:14.629876Z",
     "shell.execute_reply": "2022-10-23T12:28:14.628800Z"
    },
    "papermill": {
     "duration": 0.032279,
     "end_time": "2022-10-23T12:28:14.632640",
     "exception": false,
     "start_time": "2022-10-23T12:28:14.600361",
     "status": "completed"
    },
    "tags": []
   },
   "source": [
    "# Data cleaning for model\n",
    "\n",
    "train = train.drop('Cabin', axis= 1)\n",
    "test = test.drop('Cabin', axis= 1)"
   ]
  },
  {
   "cell_type": "markdown",
   "metadata": {
    "papermill": {
     "duration": 0.015093,
     "end_time": "2022-10-23T12:28:14.663138",
     "exception": false,
     "start_time": "2022-10-23T12:28:14.648045",
     "status": "completed"
    },
    "tags": []
   },
   "source": [
    "# model"
   ]
  },
  {
   "cell_type": "markdown",
   "metadata": {
    "execution": {
     "iopub.execute_input": "2022-10-23T12:28:14.696139Z",
     "iopub.status.busy": "2022-10-23T12:28:14.695207Z",
     "iopub.status.idle": "2022-10-23T12:28:14.703570Z",
     "shell.execute_reply": "2022-10-23T12:28:14.702337Z"
    },
    "papermill": {
     "duration": 0.027796,
     "end_time": "2022-10-23T12:28:14.706168",
     "exception": false,
     "start_time": "2022-10-23T12:28:14.678372",
     "status": "completed"
    },
    "tags": []
   },
   "source": [
    "X = train.drop('Transported', axis=1)\n",
    "y = train['Transported']\n",
    "X_test = test "
   ]
  },
  {
   "cell_type": "markdown",
   "metadata": {
    "execution": {
     "iopub.execute_input": "2022-10-23T12:28:14.740168Z",
     "iopub.status.busy": "2022-10-23T12:28:14.739762Z",
     "iopub.status.idle": "2022-10-23T12:28:14.755969Z",
     "shell.execute_reply": "2022-10-23T12:28:14.754794Z"
    },
    "papermill": {
     "duration": 0.036443,
     "end_time": "2022-10-23T12:28:14.758562",
     "exception": false,
     "start_time": "2022-10-23T12:28:14.722119",
     "status": "completed"
    },
    "tags": []
   },
   "source": [
    "X.head()"
   ]
  },
  {
   "cell_type": "markdown",
   "metadata": {
    "execution": {
     "iopub.execute_input": "2022-10-23T12:28:14.793482Z",
     "iopub.status.busy": "2022-10-23T12:28:14.793077Z",
     "iopub.status.idle": "2022-10-23T12:28:14.801377Z",
     "shell.execute_reply": "2022-10-23T12:28:14.800023Z"
    },
    "papermill": {
     "duration": 0.028977,
     "end_time": "2022-10-23T12:28:14.803860",
     "exception": false,
     "start_time": "2022-10-23T12:28:14.774883",
     "status": "completed"
    },
    "tags": []
   },
   "source": [
    "y.head()"
   ]
  },
  {
   "cell_type": "markdown",
   "metadata": {
    "execution": {
     "iopub.execute_input": "2022-10-23T12:28:14.838739Z",
     "iopub.status.busy": "2022-10-23T12:28:14.838335Z",
     "iopub.status.idle": "2022-10-23T12:28:14.854427Z",
     "shell.execute_reply": "2022-10-23T12:28:14.853324Z"
    },
    "papermill": {
     "duration": 0.036386,
     "end_time": "2022-10-23T12:28:14.856594",
     "exception": false,
     "start_time": "2022-10-23T12:28:14.820208",
     "status": "completed"
    },
    "tags": []
   },
   "source": [
    "X_test.head()"
   ]
  },
  {
   "cell_type": "markdown",
   "metadata": {
    "execution": {
     "iopub.execute_input": "2022-10-23T12:28:15.123241Z",
     "iopub.status.busy": "2022-10-23T12:28:15.121806Z",
     "iopub.status.idle": "2022-10-23T12:28:15.404570Z",
     "shell.execute_reply": "2022-10-23T12:28:15.403251Z"
    },
    "papermill": {
     "duration": 0.304254,
     "end_time": "2022-10-23T12:28:15.407660",
     "exception": false,
     "start_time": "2022-10-23T12:28:15.103406",
     "status": "completed"
    },
    "tags": []
   },
   "source": [
    "from sklearn.model_selection import train_test_split, cross_val_score"
   ]
  },
  {
   "cell_type": "markdown",
   "metadata": {
    "execution": {
     "iopub.execute_input": "2022-10-23T12:28:15.443288Z",
     "iopub.status.busy": "2022-10-23T12:28:15.442811Z",
     "iopub.status.idle": "2022-10-23T12:28:15.450786Z",
     "shell.execute_reply": "2022-10-23T12:28:15.449250Z"
    },
    "papermill": {
     "duration": 0.029001,
     "end_time": "2022-10-23T12:28:15.453404",
     "exception": false,
     "start_time": "2022-10-23T12:28:15.424403",
     "status": "completed"
    },
    "tags": []
   },
   "source": [
    "def classify(model, xx, yy):\n",
    "    \n",
    "    x_train, x_test, y_train, y_test = train_test_split(xx, yy, test_size=0.2, random_state= 42)\n",
    "    model.fit(x_train, y_train)\n",
    "    print('Accuracy: ', model.score(x_test, y_test))\n",
    "    \n",
    "    score = cross_val_score(model, X, y, cv=5)\n",
    "    print('CV Score: ', np.mean(score))"
   ]
  },
  {
   "cell_type": "markdown",
   "metadata": {
    "execution": {
     "iopub.execute_input": "2022-10-23T12:28:30.076632Z",
     "iopub.status.busy": "2022-10-23T12:28:30.076107Z",
     "iopub.status.idle": "2022-10-23T12:28:30.747119Z",
     "shell.execute_reply": "2022-10-23T12:28:30.745698Z"
    },
    "papermill": {
     "duration": 0.692678,
     "end_time": "2022-10-23T12:28:30.750465",
     "exception": false,
     "start_time": "2022-10-23T12:28:30.057787",
     "status": "completed"
    },
    "tags": []
   },
   "source": [
    "from sklearn.neighbors import KNeighborsClassifier\n",
    "\n",
    "model = KNeighborsClassifier()\n",
    "classify(model, X, y)"
   ]
  },
  {
   "cell_type": "markdown",
   "metadata": {},
   "source": [
    "X_test"
   ]
  },
  {
   "cell_type": "markdown",
   "metadata": {},
   "source": [
    "# model_rf = RandomForestClassifier(max_depth=12, min_samples_leaf=12, min_samples_split=8, n_estimators=50)\n",
    "# model_rf.fit(x_train, y_train)\n",
    "\n",
    "y_pred = model.predict(X_test)\n",
    "# print(model.score(x_test, y_test))\n",
    "\n",
    "y_submission = model.predict(X_test) "
   ]
  },
  {
   "cell_type": "markdown",
   "metadata": {},
   "source": [
    "submission = pd.DataFrame({\n",
    "        \"Id\": pd.read_csv('test.csv')[\"Id\"],\n",
    "        \"Transported\": y_submission\n",
    "    })"
   ]
  },
  {
   "cell_type": "markdown",
   "metadata": {},
   "source": [
    "submission[\"Transported\"] = submission[\"Transported\"].astype(int)"
   ]
  },
  {
   "cell_type": "raw",
   "metadata": {},
   "source": [
    "submission.to_csv('submission.csv', index=False)"
   ]
  },
  {
   "cell_type": "markdown",
   "metadata": {
    "papermill": {
     "duration": 0.017289,
     "end_time": "2022-10-23T12:28:30.785415",
     "exception": false,
     "start_time": "2022-10-23T12:28:30.768126",
     "status": "completed"
    },
    "tags": []
   },
   "source": [
    "# Now try other models\n",
    "# Or tune your parameters"
   ]
  },
  {
   "cell_type": "markdown",
   "metadata": {},
   "source": [
    "## Try Decision Tree\n",
    "## Try Other models\n",
    "## Try other parameters"
   ]
  }
 ],
 "metadata": {
  "kernelspec": {
   "display_name": "Python 3",
   "language": "python",
   "name": "python3"
  },
  "language_info": {
   "codemirror_mode": {
    "name": "ipython",
    "version": 3
   },
   "file_extension": ".py",
   "mimetype": "text/x-python",
   "name": "python",
   "nbconvert_exporter": "python",
   "pygments_lexer": "ipython3",
   "version": "3.8.5"
  },
  "papermill": {
   "default_parameters": {},
   "duration": 1777.016922,
   "end_time": "2022-10-23T12:57:36.783153",
   "environment_variables": {},
   "exception": null,
   "input_path": "__notebook__.ipynb",
   "output_path": "__notebook__.ipynb",
   "parameters": {},
   "start_time": "2022-10-23T12:27:59.766231",
   "version": "2.3.4"
  }
 },
 "nbformat": 4,
 "nbformat_minor": 5
}
